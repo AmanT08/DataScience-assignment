{
 "cells": [
  {
   "cell_type": "markdown",
   "id": "d869031b-ee2d-400a-9752-52345deee860",
   "metadata": {},
   "source": [
    "# Data Science Tools and Ecosystem"
   ]
  },
  {
   "cell_type": "markdown",
   "id": "331fb77d-fd63-4902-addc-722fe9bf49e3",
   "metadata": {},
   "source": [
    "In this notebook, Data Science Tools and Ecosystem are summarized."
   ]
  },
  {
   "cell_type": "markdown",
   "id": "4bb76f8e-e37c-4def-89ee-7eb1d61c431e",
   "metadata": {},
   "source": [
    "**Objectives:**\n",
    "<ol>\n",
    "  <li>Some of the popular languages that Data Scientists use</li>\n",
    "  <li>Some of the commonly used libraries used by Data Scientists</li>\n",
    "  <li>Data Science Tools</li>\n",
    "  <li>simple arithmetic expression to mutiply then add integers</li>\n",
    "</ol>\n",
    "\n"
   ]
  },
  {
   "cell_type": "markdown",
   "id": "0c81ce46-d56c-404d-a93a-4acb9c206c4a",
   "metadata": {},
   "source": [
    "Some of the popular languages that Data Scientists use are:\n",
    "<ol>\n",
    "  <li>Python</li>\n",
    "  <li>R</li>\n",
    "  <li>Julia</li>\n",
    "  <li>SQL</li>\n",
    "  <li>Scala</li>\n",
    "</ol>\n"
   ]
  },
  {
   "cell_type": "markdown",
   "id": "c25c7ad1-772d-4d36-9855-34e6998b76b4",
   "metadata": {},
   "source": [
    "Some of the commonly used libraries used by Data Scientists include:\n",
    "<ol>\n",
    "  <li>Scikit-learn</li>\n",
    "  <li>Pandas</li>\n",
    "  <li>Caret</li>\n",
    "  <li>TensorFlow</li>\n",
    "</ol>"
   ]
  },
  {
   "cell_type": "markdown",
   "id": "ff981802-6084-4a9b-99d6-65f0c74c6d4c",
   "metadata": {},
   "source": [
    "|Data Science Tools|\n",
    "--------------------\n",
    "|Jupyter Notebook|\n",
    "|RStudio|\n",
    "|VS Code (Visual Studio Code)|\n"
   ]
  },
  {
   "cell_type": "markdown",
   "id": "38a17e6a-9bd1-4926-ac4c-314735dcfc14",
   "metadata": {},
   "source": [
    "Below are a few examples of evaluating arithmetic expressions in Python"
   ]
  },
  {
   "cell_type": "code",
   "execution_count": 1,
   "id": "e34eef3e-54a5-42ae-abf9-5a7e66c7f84d",
   "metadata": {
    "tags": []
   },
   "outputs": [
    {
     "data": {
      "text/plain": [
       "17"
      ]
     },
     "execution_count": 1,
     "metadata": {},
     "output_type": "execute_result"
    }
   ],
   "source": [
    "#This a simple arithmetic expression to mutiply then add integers\n",
    "(3*4)+5"
   ]
  },
  {
   "cell_type": "code",
   "execution_count": 3,
   "id": "dc08373c-4cd6-465c-a69d-44d66ed7edbe",
   "metadata": {
    "tags": []
   },
   "outputs": [
    {
     "data": {
      "text/plain": [
       "3.3333333333333335"
      ]
     },
     "execution_count": 3,
     "metadata": {},
     "output_type": "execute_result"
    }
   ],
   "source": [
    "#This will convert 200 minutes to hours by diving by 60\n",
    "\n",
    "200/60"
   ]
  },
  {
   "cell_type": "markdown",
   "id": "2f650736-a508-4f9b-9dfd-691ad207de4e",
   "metadata": {},
   "source": [
    "## Author\n",
    "Aman Thapliyal"
   ]
  },
  {
   "cell_type": "code",
   "execution_count": null,
   "id": "fb8dfe23-cb5f-40f5-b5d1-deca79860326",
   "metadata": {},
   "outputs": [],
   "source": []
  }
 ],
 "metadata": {
  "kernelspec": {
   "display_name": "Python",
   "language": "python",
   "name": "conda-env-python-py"
  },
  "language_info": {
   "codemirror_mode": {
    "name": "ipython",
    "version": 3
   },
   "file_extension": ".py",
   "mimetype": "text/x-python",
   "name": "python",
   "nbconvert_exporter": "python",
   "pygments_lexer": "ipython3",
   "version": "3.7.12"
  }
 },
 "nbformat": 4,
 "nbformat_minor": 5
}
